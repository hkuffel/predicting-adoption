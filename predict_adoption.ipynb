{
 "cells": [
  {
   "cell_type": "markdown",
   "metadata": {},
   "source": [
    "# Using Logistic Regression to Predict Animal Shelter Adoptions"
   ]
  },
  {
   "cell_type": "code",
   "execution_count": 38,
   "metadata": {},
   "outputs": [],
   "source": [
    "import pandas as pd\n",
    "import numpy as np\n",
    "import matplotlib.pyplot as plt\n",
    "import seaborn as sns\n",
    "from datetime import datetime\n",
    "\n",
    "from sklearn.model_selection import train_test_split\n",
    "from sklearn.linear_model import LogisticRegression\n",
    "from sklearn.metrics import confusion_matrix"
   ]
  },
  {
   "cell_type": "markdown",
   "metadata": {},
   "source": [
    "data comes from the Austin Animal Center database: https://data.austintexas.gov/browse?q=austin%20animal%20center&sortBy=relevance&utf8=✓"
   ]
  },
  {
   "cell_type": "code",
   "execution_count": 39,
   "metadata": {},
   "outputs": [
    {
     "data": {
      "text/plain": [
       "(137399, 16)"
      ]
     },
     "execution_count": 39,
     "metadata": {},
     "output_type": "execute_result"
    }
   ],
   "source": [
    "odf = pd.read_csv('Austin_Animal_Center_Outcomes.csv')\n",
    "\n",
    "idf = pd.read_csv('Austin_Animal_Center_Intakes.csv')\n",
    "\n",
    "idf = idf[['Animal ID', 'DateTime', 'Intake Type', 'Intake Condition',\n",
    "          'Age upon Intake']]\n",
    "\n",
    "df = pd.merge(left = odf, right = idf, how = 'inner', on = 'Animal ID')\n",
    "df.shape"
   ]
  },
  {
   "cell_type": "code",
   "execution_count": 41,
   "metadata": {},
   "outputs": [],
   "source": [
    "df = df.rename(columns = {'DateTime_x': 'outcome date',\n",
    "                         'DateTime_y': 'intake date'})\n",
    "df = df.drop(['Name', 'MonthYear', 'Outcome Subtype'], axis = 1)\n",
    "df = df.dropna()\n",
    "df = df.drop_duplicates(subset = 'Animal ID').reset_index(drop=True)"
   ]
  },
  {
   "cell_type": "code",
   "execution_count": 42,
   "metadata": {},
   "outputs": [
    {
     "data": {
      "text/plain": [
       "Adoption           39899\n",
       "Transfer           31155\n",
       "Return to Owner    15115\n",
       "Euthanasia          7379\n",
       "Died                 996\n",
       "Disposal             407\n",
       "Rto-Adopt            366\n",
       "Missing               57\n",
       "Relocate              18\n",
       "Name: Outcome Type, dtype: int64"
      ]
     },
     "execution_count": 42,
     "metadata": {},
     "output_type": "execute_result"
    }
   ],
   "source": [
    "df['Outcome Type'].value_counts()"
   ]
  },
  {
   "cell_type": "code",
   "execution_count": 43,
   "metadata": {},
   "outputs": [],
   "source": [
    "df['is adopted'] = [1 if df.loc[i, 'Outcome Type'] == 'Adoption' else 0 for i in range(len(df['Outcome Type']))]\n",
    "df = df.drop('Outcome Type', axis = 1)"
   ]
  },
  {
   "cell_type": "code",
   "execution_count": 44,
   "metadata": {
    "scrolled": true
   },
   "outputs": [
    {
     "data": {
      "text/plain": [
       "Neutered Male    31972\n",
       "Spayed Female    29247\n",
       "Intact Male      12671\n",
       "Intact Female    12576\n",
       "Unknown           8926\n",
       "Name: Sex upon Outcome, dtype: int64"
      ]
     },
     "execution_count": 44,
     "metadata": {},
     "output_type": "execute_result"
    }
   ],
   "source": [
    "df['Sex upon Outcome'].value_counts()"
   ]
  },
  {
   "cell_type": "code",
   "execution_count": 45,
   "metadata": {},
   "outputs": [],
   "source": [
    "spayed = []\n",
    "sex = []\n",
    "for i in range(len(df)):\n",
    "    if df.loc[i, 'Sex upon Outcome'] == 'Neutered Male' or df.loc[i, 'Sex upon Outcome'] == 'Spayed Female':\n",
    "        spayed.append('yes')\n",
    "    elif df.loc[i, 'Sex upon Outcome'] == 'Unknown':\n",
    "        spayed.append('unknown')\n",
    "    else:\n",
    "        spayed.append('no')\n",
    "    if df.loc[i, 'Sex upon Outcome'] == 'Neutered Male' or df.loc[i, 'Sex upon Outcome'] == 'Intact Male':\n",
    "        sex.append('male')\n",
    "    elif df.loc[i, 'Sex upon Outcome'] == 'Unknown':\n",
    "        sex.append('unknown')\n",
    "    else:\n",
    "        sex.append('female')\n",
    "df['spayed/neutered'] = spayed\n",
    "df['sex'] = sex\n",
    "df = df.drop('Sex upon Outcome', axis = 1)"
   ]
  },
  {
   "cell_type": "code",
   "execution_count": 46,
   "metadata": {},
   "outputs": [],
   "source": [
    "intake_datetimes= [datetime.strptime(df.loc[i,'intake date'], '%m/%d/%Y %I:%M:%S %p') for i in range(len(df))]\n",
    "outcome_datetimes= [datetime.strptime(df.loc[i,'outcome date'], '%m/%d/%Y %I:%M:%S %p') for i in range(len(df))]\n",
    "\n",
    "duration = [outcome - intake for outcome, intake in zip(outcome_datetimes, intake_datetimes)]\n",
    "\n",
    "days = [(delta.days + 1) if delta.seconds > 43199 else delta.days for delta in duration]\n",
    "\n",
    "df['stay duration'] = days"
   ]
  },
  {
   "cell_type": "code",
   "execution_count": 47,
   "metadata": {},
   "outputs": [],
   "source": [
    "birthdays = [datetime.strptime(df.loc[i,'Date of Birth'], '%m/%d/%Y') for i in range(len(df))]\n",
    "intake_age = [intake - birthday for intake, birthday in zip(intake_datetimes, birthdays)]\n",
    "df['intake age'] = [(delta.days + 1) if delta.seconds > 43199 else delta.days for delta in intake_age]\n",
    "outcome_age = [outcome - birthday for outcome, birthday in zip(outcome_datetimes, birthdays)]\n",
    "df['outcome age'] = [(delta.days + 1) if delta.seconds > 43199 else delta.days for delta in outcome_age]\n",
    "\n",
    "df = df.drop(['Date of Birth', 'Age upon Outcome', 'outcome date',\n",
    "              'intake date', 'Age upon Intake'], axis = 1)"
   ]
  },
  {
   "cell_type": "code",
   "execution_count": 49,
   "metadata": {},
   "outputs": [],
   "source": [
    "def otherize(df, col, cutoff):\n",
    "    col_counts = dict(df[col].value_counts())\n",
    "    new_col = []\n",
    "    for i in range(len(df)):\n",
    "        if col_counts[df.loc[i, col]] < cutoff:\n",
    "            new_col.append('other')\n",
    "        else:\n",
    "            new_col.append(df.loc[i, col])\n",
    "    df[col.lower()] = new_col"
   ]
  },
  {
   "cell_type": "code",
   "execution_count": 50,
   "metadata": {},
   "outputs": [],
   "source": [
    "otherize(df, 'Breed', 600)\n",
    "otherize(df, 'Color', 1000)\n",
    "df = df.drop(['Breed', 'Color'], axis = 1)"
   ]
  },
  {
   "cell_type": "code",
   "execution_count": 51,
   "metadata": {},
   "outputs": [
    {
     "data": {
      "text/html": [
       "<div>\n",
       "<style scoped>\n",
       "    .dataframe tbody tr th:only-of-type {\n",
       "        vertical-align: middle;\n",
       "    }\n",
       "\n",
       "    .dataframe tbody tr th {\n",
       "        vertical-align: top;\n",
       "    }\n",
       "\n",
       "    .dataframe thead th {\n",
       "        text-align: right;\n",
       "    }\n",
       "</style>\n",
       "<table border=\"1\" class=\"dataframe\">\n",
       "  <thead>\n",
       "    <tr style=\"text-align: right;\">\n",
       "      <th></th>\n",
       "      <th>Animal ID</th>\n",
       "      <th>Animal Type</th>\n",
       "      <th>Intake Type</th>\n",
       "      <th>Intake Condition</th>\n",
       "      <th>is adopted</th>\n",
       "      <th>spayed/neutered</th>\n",
       "      <th>sex</th>\n",
       "      <th>stay duration</th>\n",
       "      <th>intake age</th>\n",
       "      <th>outcome age</th>\n",
       "      <th>breed</th>\n",
       "      <th>color</th>\n",
       "    </tr>\n",
       "  </thead>\n",
       "  <tbody>\n",
       "    <tr>\n",
       "      <th>0</th>\n",
       "      <td>A798016</td>\n",
       "      <td>Cat</td>\n",
       "      <td>Stray</td>\n",
       "      <td>Normal</td>\n",
       "      <td>0</td>\n",
       "      <td>yes</td>\n",
       "      <td>female</td>\n",
       "      <td>79</td>\n",
       "      <td>47</td>\n",
       "      <td>125</td>\n",
       "      <td>Domestic Shorthair</td>\n",
       "      <td>Black</td>\n",
       "    </tr>\n",
       "    <tr>\n",
       "      <th>1</th>\n",
       "      <td>A803571</td>\n",
       "      <td>Cat</td>\n",
       "      <td>Stray</td>\n",
       "      <td>Sick</td>\n",
       "      <td>0</td>\n",
       "      <td>unknown</td>\n",
       "      <td>unknown</td>\n",
       "      <td>4</td>\n",
       "      <td>1461</td>\n",
       "      <td>1465</td>\n",
       "      <td>Domestic Shorthair</td>\n",
       "      <td>Black</td>\n",
       "    </tr>\n",
       "    <tr>\n",
       "      <th>2</th>\n",
       "      <td>A803373</td>\n",
       "      <td>Dog</td>\n",
       "      <td>Stray</td>\n",
       "      <td>Normal</td>\n",
       "      <td>0</td>\n",
       "      <td>no</td>\n",
       "      <td>male</td>\n",
       "      <td>7</td>\n",
       "      <td>366</td>\n",
       "      <td>372</td>\n",
       "      <td>other</td>\n",
       "      <td>Black/White</td>\n",
       "    </tr>\n",
       "    <tr>\n",
       "      <th>3</th>\n",
       "      <td>A803393</td>\n",
       "      <td>Dog</td>\n",
       "      <td>Owner Surrender</td>\n",
       "      <td>Normal</td>\n",
       "      <td>0</td>\n",
       "      <td>no</td>\n",
       "      <td>male</td>\n",
       "      <td>7</td>\n",
       "      <td>1827</td>\n",
       "      <td>1833</td>\n",
       "      <td>other</td>\n",
       "      <td>Brown/White</td>\n",
       "    </tr>\n",
       "    <tr>\n",
       "      <th>4</th>\n",
       "      <td>A803610</td>\n",
       "      <td>Cat</td>\n",
       "      <td>Owner Surrender</td>\n",
       "      <td>Normal</td>\n",
       "      <td>1</td>\n",
       "      <td>yes</td>\n",
       "      <td>female</td>\n",
       "      <td>3</td>\n",
       "      <td>154</td>\n",
       "      <td>157</td>\n",
       "      <td>Domestic Shorthair Mix</td>\n",
       "      <td>other</td>\n",
       "    </tr>\n",
       "  </tbody>\n",
       "</table>\n",
       "</div>"
      ],
      "text/plain": [
       "  Animal ID Animal Type      Intake Type Intake Condition  is adopted  \\\n",
       "0   A798016         Cat            Stray           Normal           0   \n",
       "1   A803571         Cat            Stray             Sick           0   \n",
       "2   A803373         Dog            Stray           Normal           0   \n",
       "3   A803393         Dog  Owner Surrender           Normal           0   \n",
       "4   A803610         Cat  Owner Surrender           Normal           1   \n",
       "\n",
       "  spayed/neutered      sex  stay duration  intake age  outcome age  \\\n",
       "0             yes   female             79          47          125   \n",
       "1         unknown  unknown              4        1461         1465   \n",
       "2              no     male              7         366          372   \n",
       "3              no     male              7        1827         1833   \n",
       "4             yes   female              3         154          157   \n",
       "\n",
       "                    breed        color  \n",
       "0      Domestic Shorthair        Black  \n",
       "1      Domestic Shorthair        Black  \n",
       "2                   other  Black/White  \n",
       "3                   other  Brown/White  \n",
       "4  Domestic Shorthair Mix        other  "
      ]
     },
     "execution_count": 51,
     "metadata": {},
     "output_type": "execute_result"
    }
   ],
   "source": [
    "df.head()"
   ]
  },
  {
   "cell_type": "code",
   "execution_count": 53,
   "metadata": {},
   "outputs": [
    {
     "data": {
      "text/plain": [
       "(95392, 73)"
      ]
     },
     "execution_count": 53,
     "metadata": {},
     "output_type": "execute_result"
    }
   ],
   "source": [
    "df = pd.get_dummies(df, columns = ['Animal Type', 'Intake Type', 'Intake Condition',\n",
    "                                  'spayed/neutered', 'sex', 'breed', 'color'])\n",
    "df.shape"
   ]
  },
  {
   "cell_type": "code",
   "execution_count": 54,
   "metadata": {},
   "outputs": [],
   "source": [
    "X = df.drop(['Animal ID','is adopted'], axis = 1)\n",
    "y = df['is adopted']\n",
    "X_train, X_test, y_train, y_test = train_test_split(X,y)"
   ]
  },
  {
   "cell_type": "code",
   "execution_count": 56,
   "metadata": {},
   "outputs": [
    {
     "name": "stderr",
     "output_type": "stream",
     "text": [
      "/Users/Hunter/anaconda3/lib/python3.7/site-packages/sklearn/linear_model/logistic.py:433: FutureWarning: Default solver will be changed to 'lbfgs' in 0.22. Specify a solver to silence this warning.\n",
      "  FutureWarning)\n"
     ]
    },
    {
     "data": {
      "text/plain": [
       "0.8194817175444482"
      ]
     },
     "execution_count": 56,
     "metadata": {},
     "output_type": "execute_result"
    }
   ],
   "source": [
    "lr = LogisticRegression().fit(X_train, y_train)\n",
    "\n",
    "score = lr.score(X_test, y_test)\n",
    "score"
   ]
  },
  {
   "cell_type": "code",
   "execution_count": 59,
   "metadata": {},
   "outputs": [
    {
     "data": {
      "image/png": "[encoded data removed]",
      "text/plain": [
       "<Figure size 720x720 with 2 Axes>"
      ]
     },
     "metadata": {
      "needs_background": "light"
     },
     "output_type": "display_data"
    }
   ],
   "source": [
    "y_pred = lr.predict(X_test)\n",
    "cm = confusion_matrix(y_test, y_pred)\n",
    "plt.figure(figsize=(10,10))\n",
    "sns.heatmap(cm, annot=True, fmt=\".3f\", linewidths=.5)\n",
    "plt.ylabel('Actual label')\n",
    "plt.xlabel('Predicted label')\n",
    "plt.title(f'Accuracy Score: {score}', size = 15)\n",
    "plt.show()"
   ]
  }
 ],
 "metadata": {
  "kernelspec": {
   "display_name": "Python 3",
   "language": "python",
   "name": "python3"
  },
  "language_info": {
   "codemirror_mode": {
    "name": "ipython",
    "version": 3
   },
   "file_extension": ".py",
   "mimetype": "text/x-python",
   "name": "python",
   "nbconvert_exporter": "python",
   "pygments_lexer": "ipython3",
   "version": "3.7.3"
  },
  "toc": {
   "base_numbering": 1,
   "nav_menu": {},
   "number_sections": true,
   "sideBar": true,
   "skip_h1_title": false,
   "title_cell": "Table of Contents",
   "title_sidebar": "Contents",
   "toc_cell": false,
   "toc_position": {},
   "toc_section_display": true,
   "toc_window_display": false
  }
 },
 "nbformat": 4,
 "nbformat_minor": 2
}
